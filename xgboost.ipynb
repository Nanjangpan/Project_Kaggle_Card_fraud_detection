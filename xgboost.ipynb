{
 "cells": [
  {
   "cell_type": "markdown",
   "metadata": {},
   "source": [
    "# IEEE-CIS Fraud Detection\n",
    "## Model: Xgboost\n",
    "*Visit [kaggle](https://www.kaggle.com/c/ieee-fraud-detection) for competition details*\n",
    "\n",
    "**Authored by Soyoung Kang**"
   ]
  },
  {
   "cell_type": "code",
   "execution_count": null,
   "metadata": {},
   "outputs": [],
   "source": [
    "import numpy as np\n",
    "import pandas as pd\n",
    "import xgboost as xgb\n",
    "\n",
    "from sklearn.preprocessing import RobustScaler\n",
    "from sklearn.preprocessing import MinMaxScaler\n",
    "\n",
    "from sklearn.model_selection import GridSearchCV\n",
    "from sklearn.model_selection import train_test_split\n",
    "from sklearn.model_selection import cross_val_score\n",
    "\n",
    "from sklearn.metrics import roc_auc_score\n",
    "\n",
    "from sklearn.datasets import make_classification\n",
    "\n",
    "from imblearn.over_sampling import SMOTE"
   ]
  },
  {
   "cell_type": "code",
   "execution_count": null,
   "metadata": {},
   "outputs": [],
   "source": [
    "train = pd.read_csv('', engine = 'python')\n",
    "test = pd.read_csv('', engine = 'python')"
   ]
  },
  {
   "cell_type": "code",
   "execution_count": null,
   "metadata": {},
   "outputs": [],
   "source": [
    "train.drop('Unnamed: 0', axis = 1, inplace = True)\n",
    "test.drop('Unnamed: 0', axis = 1, inplace = True)"
   ]
  },
  {
   "cell_type": "code",
   "execution_count": null,
   "metadata": {},
   "outputs": [],
   "source": [
    "# Later used for TransactionID\n",
    "\n",
    "original_test = pd.read_csv('/ieee-fraud-detection/test_transaction.csv', engine = 'python')"
   ]
  },
  {
   "cell_type": "code",
   "execution_count": null,
   "metadata": {},
   "outputs": [],
   "source": []
  },
  {
   "cell_type": "code",
   "execution_count": null,
   "metadata": {},
   "outputs": [],
   "source": [
    "X = train.iloc[:, train.columns != 'isFraud']\n",
    "y = train.isFraud"
   ]
  },
  {
   "cell_type": "code",
   "execution_count": null,
   "metadata": {},
   "outputs": [],
   "source": [
    "# # Robust Scaling\n",
    "\n",
    "# robustScaler = RobustScaler()\n",
    "# robustScaler.fit(X)\n",
    "# X_train = robustScaler.transform(X)\n",
    "\n",
    "# X_test = test.copy()\n",
    "# scaler_ = RobustScaler()\n",
    "# scaler_.fit(X_test)\n",
    "# X_test = scaler_.transform(X_test)"
   ]
  },
  {
   "cell_type": "code",
   "execution_count": null,
   "metadata": {},
   "outputs": [],
   "source": [
    "# # MinMax Scaling\n",
    "\n",
    "# scaler = MinMaxScaler(feature_range=(0, 1))\n",
    "# X_train = scaler.fit_transform(X)\n",
    "\n",
    "# X_test = test.copy()\n",
    "# scaler_ = MinMaxScaler(feature_range=(0, 1))\n",
    "# X_test = scaler_.fit_transform(X_test)"
   ]
  },
  {
   "cell_type": "code",
   "execution_count": null,
   "metadata": {},
   "outputs": [],
   "source": [
    "# Split validation set\n",
    "\n",
    "X_train, X_valid, y_train, y_valid = train_test_split(X, y, test_size=0.3)"
   ]
  },
  {
   "cell_type": "code",
   "execution_count": null,
   "metadata": {},
   "outputs": [],
   "source": [
    "# # SMOTE 모델설정\n",
    "# sm = SMOTE(ratio='auto', kind='regular')\n",
    "\n",
    "# # train데이터를 넣어 복제함\n",
    "# X_resampled, Y_resampled = sm.fit_sample(X_train,list(y))"
   ]
  },
  {
   "cell_type": "code",
   "execution_count": null,
   "metadata": {},
   "outputs": [],
   "source": [
    "xgb_model = xgb.XGBClassifier(n_estimators=2000,\n",
    "                        n_jobs=4,\n",
    "                        max_depth=15,\n",
    "                        learning_rate=0.001,\n",
    "                        gamma = 0.02,\n",
    "                        subsample = 0.9,\n",
    "                        colsample_bytree=0.9,\n",
    "                        missing=-999,\n",
    "                        tree_method='gpu_hist')\n",
    "print(xgb_model)"
   ]
  },
  {
   "cell_type": "code",
   "execution_count": null,
   "metadata": {},
   "outputs": [],
   "source": [
    "xgb_model.fit(X, y)"
   ]
  },
  {
   "cell_type": "code",
   "execution_count": null,
   "metadata": {},
   "outputs": [],
   "source": [
    "preds = xgb_model.predict_proba(test)\n",
    "preds = preds[:,1]"
   ]
  },
  {
   "cell_type": "code",
   "execution_count": null,
   "metadata": {},
   "outputs": [],
   "source": [
    "# Make test result file\n",
    "\n",
    "id = list(original_test.TransactionID)\n",
    "result = list(zip(id, preds))\n",
    "\n",
    "df = pd.DataFrame(result, columns = ['TransactionID', 'isFraud'])\n",
    "df.set_index('TransactionID', inplace = True)\n",
    "df.to_csv('result_drop28.csv', encoding = 'utf8')"
   ]
  },
  {
   "cell_type": "code",
   "execution_count": null,
   "metadata": {},
   "outputs": [],
   "source": []
  },
  {
   "cell_type": "code",
   "execution_count": null,
   "metadata": {},
   "outputs": [],
   "source": [
    "# p = preds > np.percentile(preds, 80)"
   ]
  },
  {
   "cell_type": "code",
   "execution_count": null,
   "metadata": {},
   "outputs": [],
   "source": [
    "# Validation score\n",
    "\n",
    "auc = roc_auc_score(y_valid, preds)\n",
    "print(\"roc-auc score: \", auc)"
   ]
  },
  {
   "cell_type": "code",
   "execution_count": null,
   "metadata": {},
   "outputs": [],
   "source": [
    "# CV validation score\n",
    "\n",
    "auc_scores = cross_val_score(xgb_model, X_resampled, Y_resampled, cv=5, scoring='roc_auc')\n",
    "print(\"Mean roc-auc score: \", np.mean(auc_scores))"
   ]
  },
  {
   "cell_type": "code",
   "execution_count": null,
   "metadata": {},
   "outputs": [],
   "source": []
  },
  {
   "cell_type": "markdown",
   "metadata": {},
   "source": [
    "## Feature importance"
   ]
  },
  {
   "cell_type": "code",
   "execution_count": null,
   "metadata": {},
   "outputs": [],
   "source": [
    "from xgboost import plot_importance\n",
    "\n",
    "# xgb_model = xgb.XGBClassifier()\n",
    "# xgb_model.fit(X, y)\n",
    "sorted_idx = np.argsort(xgb_model.feature_importances_)[::-1]\n",
    "for index in sorted_idx:\n",
    "    print([X.columns[index], xgb_model.feature_importances_[index]])"
   ]
  },
  {
   "cell_type": "code",
   "execution_count": null,
   "metadata": {},
   "outputs": [],
   "source": []
  }
 ],
 "metadata": {
  "kernelspec": {
   "display_name": "Python 3",
   "language": "python",
   "name": "python3"
  },
  "language_info": {
   "codemirror_mode": {
    "name": "ipython",
    "version": 3
   },
   "file_extension": ".py",
   "mimetype": "text/x-python",
   "name": "python",
   "nbconvert_exporter": "python",
   "pygments_lexer": "ipython3",
   "version": "3.6.4"
  }
 },
 "nbformat": 4,
 "nbformat_minor": 2
}
