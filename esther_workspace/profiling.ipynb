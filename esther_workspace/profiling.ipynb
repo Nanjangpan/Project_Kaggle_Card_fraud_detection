{
 "cells": [
  {
   "cell_type": "markdown",
   "metadata": {},
   "source": [
    "# IEEE-CIS Fraud Detection\n",
    "## Can you detect fraud from customer transactions?\n",
    "*Visit [kaggle](https://www.kaggle.com/c/ieee-fraud-detection) for competition details*\n",
    "\n",
    "**Authored by Soyoung Kang**"
   ]
  },
  {
   "cell_type": "markdown",
   "metadata": {},
   "source": [
    "# Overview\n",
    "## Fraud ratio\n",
    "- Total 590540 rows\n",
    "- Fraud: 20663 (3.5%)\n",
    "- NonFraud: 569877 (96.5%)"
   ]
  },
  {
   "cell_type": "markdown",
   "metadata": {},
   "source": [
    "# Profiling\n",
    "### Identity data: \n",
    "- DeviceType\n",
    "- DeviceInfo\n",
    "\n",
    "### Transaction data:\n",
    "- TransactionAmt (numerical)\n",
    "- ProductCD (categorical)\n",
    "- card1 (categorical) --> card id?\n",
    "- card2 (categorical) --> issue bank?\n",
    "- card3\n",
    "- card4 (categorical) --> card network\n",
    "- card5 (categorical) --> country?\n",
    "- card6 (categorical) --> card type\n",
    "- addr1 (categorical)\n",
    "- addr2 (categorical)\n",
    "- dist1 (numerical)\n",
    "- dist2 (numerical)\n",
    "- P_emaildomain (categorical)\n",
    "- R_emaildomain (categorical)\n",
    "- C1~C14\n",
    "- D1~D15\n",
    "- M1~M9 (boolean)"
   ]
  },
  {
   "cell_type": "markdown",
   "metadata": {},
   "source": [
    "## Transaction data"
   ]
  },
  {
   "cell_type": "markdown",
   "metadata": {},
   "source": [
    "### TransactionAmt"
   ]
  },
  {
   "cell_type": "markdown",
   "metadata": {},
   "source": [
    "**Number of transactions per TransactionAmt**  \n",
    "No distinct difference between Fraud/NonFraud.\n",
    "\n",
    "**Unique transaction amounts**  \n",
    "- Only in Fraud transactions:\n",
    "        - 9.937999999999999\n",
    "        - 13.380999999999998\n",
    "        - 13.857999999999999\n",
    "        - 14.110999999999999\n",
    "        - 14.219000000000001  \n",
    "\n",
    "**Correlation between long residuals after decimal point.**  \n",
    "Added new boolean column 'TransactionAmt_residue'.  \n",
    "if number of digits after decimal point < 15: 0  \n",
    "else: 1\n",
    "\n",
    "**Repeated Transactions**  \n",
    "Share of each card out of total repeated transactions equals to that of repeated NonFraud transactions,  \n",
    "whereas some cards have higher share in repeated Fraud transactions.\n",
    "\n",
    "        9633 130.0 185.0 visa 138.0 debit            0.027370  \n",
    "        15066 170.0 150.0 mastercard 102.0 credit    0.024032  \n",
    "        6019 583.0 150.0 visa 226.0 credit           0.023476"
   ]
  },
  {
   "cell_type": "markdown",
   "metadata": {},
   "source": [
    "### ProductCD"
   ]
  },
  {
   "cell_type": "markdown",
   "metadata": {},
   "source": [
    "**Fraud ratio and Fraud transactionAmt per category**  \n",
    "- Fraud ratio:\n",
    "        C > S > H > R > W  \n",
    "- Fraud amount ratio:\n",
    "        C > H > S > R > W\n",
    "\n",
    "**Added new numerical columns 'fraud_ratio' and 'fraud_amt_ratio'.**  \n",
    "- fraud_ratio: (number of fraud transactions) / (total transactions)\n",
    "- fraud_amt_ratio: (total transactionAmt of fraud transactions) / (total transactionAmt of total transactions)\n",
    "\n",
    "**Zero correlation shown.**"
   ]
  },
  {
   "cell_type": "markdown",
   "metadata": {},
   "source": [
    "### card1~6, card_merged"
   ]
  },
  {
   "cell_type": "markdown",
   "metadata": {},
   "source": [
    "**card1, card2, card4, card6, card_merged**  \n",
    "No significant correlation with Fraudulency.  \n",
    "\n",
    "**card3**  \n",
    "Small positive correlation.\n",
    "- value 150: 88.3%\n",
    "- value 185: 9.5%\n",
    "\n",
    "**card5**  \n",
    "Added new column that represents the level of fraud transactions per card5 value.  \n",
    "Small positive correlation."
   ]
  },
  {
   "cell_type": "markdown",
   "metadata": {},
   "source": [
    "## Identity data"
   ]
  },
  {
   "cell_type": "markdown",
   "metadata": {},
   "source": [
    "### DeviceType"
   ]
  },
  {
   "cell_type": "code",
   "execution_count": null,
   "metadata": {},
   "outputs": [],
   "source": []
  }
 ],
 "metadata": {
  "kernelspec": {
   "display_name": "Python 3",
   "language": "python",
   "name": "python3"
  },
  "language_info": {
   "codemirror_mode": {
    "name": "ipython",
    "version": 3
   },
   "file_extension": ".py",
   "mimetype": "text/x-python",
   "name": "python",
   "nbconvert_exporter": "python",
   "pygments_lexer": "ipython3",
   "version": "3.6.4"
  }
 },
 "nbformat": 4,
 "nbformat_minor": 2
}
